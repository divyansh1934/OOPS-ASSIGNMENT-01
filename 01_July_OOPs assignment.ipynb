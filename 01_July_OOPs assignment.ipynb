{
 "cells": [
  {
   "cell_type": "markdown",
   "id": "03417faa",
   "metadata": {},
   "source": [
    "##                                           ASSIGNMENT-01"
   ]
  },
  {
   "cell_type": "markdown",
   "id": "9bff8dbd",
   "metadata": {},
   "source": [
    "1. What is the primary goal of Object-Oriented Programming (OOP)?"
   ]
  },
  {
   "cell_type": "markdown",
   "id": "1ad8caf9",
   "metadata": {},
   "source": [
    "Object Oriented programming language is based on classes and objects. It is used to structure a program into a simple, reusable piece of code. The entire software program runs by having multiple objects interact with objects to create large programs."
   ]
  },
  {
   "cell_type": "markdown",
   "id": "a93a4cc5",
   "metadata": {},
   "source": [
    "2. What is an object in Python?"
   ]
  },
  {
   "cell_type": "markdown",
   "id": "729a551b",
   "metadata": {},
   "source": [
    "A2. An Object is an instance of a Class. A class is like a blueprint while an instance is a copy of the class with actual values. It is a physical entity(or real world entity). Everything inside oops is done with the help of objects only.\n",
    "It consists of:\n",
    "1. State(attributes): It is represented by the attributes of an object. It also reflects the properties of an object.\n",
    "2. Behavior(functions): It is represented by the methods of an object. It also reflects the response of an object to other objects.\n",
    "3. Identity: It gives a unique name to an object and enables one object to interact with other objects.\n",
    "\n",
    "Eg: class ClassName:\n",
    "    pass\n",
    "\n",
    "obj = ClassName()\n",
    "print(obj.atrr)"
   ]
  },
  {
   "cell_type": "markdown",
   "id": "d8832ce9",
   "metadata": {},
   "source": [
    "3. What is a class in Python?"
   ]
  },
  {
   "cell_type": "markdown",
   "id": "4ac12a19",
   "metadata": {},
   "source": [
    "A3. Class is an blueprint for creating objects.\n",
    "It is created by the keyword class. It is a logical entity.\n",
    "It is user-defined and provides the platform to combine data and functionality.\n",
    "Creating new class means creating new objects.\n",
    "Eg:\n",
    "\n",
    "class ClassName:\n",
    "    pass\n",
    "\n",
    "obj = ClassName()\n",
    "print(obj.atrr)"
   ]
  },
  {
   "cell_type": "markdown",
   "id": "68f61ce8",
   "metadata": {},
   "source": [
    "4. What are attributes and methods in a class?"
   ]
  },
  {
   "cell_type": "markdown",
   "id": "e6661aa2",
   "metadata": {},
   "source": [
    "A4. Attributes: They are variables defined in the class.These attributes define the state of the object at a particular time.\n",
    " They can be accesed by obj.attribute_state.\n",
    "\n",
    "    Methods: Methods define behaviour of a class. A method contains logic which is executed when the method is invoked.\n",
    "    It is invoked using obj.Method_name()"
   ]
  },
  {
   "cell_type": "markdown",
   "id": "fb07e578",
   "metadata": {},
   "source": [
    "5. What is the difference between class variables and instance variables in Python?"
   ]
  },
  {
   "cell_type": "markdown",
   "id": "d5efc2aa",
   "metadata": {},
   "source": [
    "A5. Class variable: It is a variable that is defined within the class but outside the constructor or methods.\n",
    "It is shared by the all instances of the class. \n",
    "It is associated with whole class, rather than a particular instances.\n",
    "Eg: class MyClass:\n",
    "    # initialixzing class variable\n",
    "    class_variable=15\n",
    "    \n",
    "    def __init__(self, name, roll_no):\n",
    "        self.name1=name\n",
    "        self.roll_no1=roll_no\n",
    "        \n",
    "\n",
    "Instance variables: Instance variables are owned by instances of the class. This means that for each object or instance of a class, the instance variables are different.\n",
    "Unlike class variables, instance variables are defined within methods.\n",
    "Eg: class Book:   \n",
    "    #  constructor\n",
    "    def __init__(self,title,author, isbn,publication_year,available_copies):\n",
    "        self.title1=title                \n",
    "        self.author1=author\n",
    "        self.isbn1=isbn\n",
    "        self.publication_year1=publication_year\n",
    "        self.available_copies1=available_copies\n",
    "        "
   ]
  },
  {
   "cell_type": "markdown",
   "id": "aabf057f",
   "metadata": {},
   "source": [
    "Q6. What is the purpose of the self parameter in Python class methods?"
   ]
  },
  {
   "cell_type": "markdown",
   "id": "197b1667",
   "metadata": {},
   "source": [
    "A6. self parameter is used to bind the values(arguments) to the class attributes. \n",
    "It is used to access the current instances of the class.\n",
    "It is the first parameter of the object method."
   ]
  },
  {
   "cell_type": "markdown",
   "id": "2e8033b3",
   "metadata": {},
   "source": [
    "Q7. For a library management system, you have to design the \"Book\" class with OOP\n",
    "principles in mind. The “Book” class will have following attributes:\n",
    "a. title: Represents the title of the book.\n",
    "b. author: Represents the author(s) of the book.\n",
    "c. isbn: Represents the ISBN (International Standard Book Number) of the book.\n",
    "d. publication_year: Represents the year of publication of the book.\n",
    "e. available_copies: Represents the number of copies available for checkout.\n",
    "The class will also include the following methods:\n",
    "a. check_out(self): Decrements the available copies by one if there are copies\n",
    "available for checkout.\n",
    "b. return_book(self): Increments the available copies by one when a book is\n",
    "returned.\n",
    "c. display_book_info(self): Displays the information about the book, including its\n",
    "attributes and the number of available copies."
   ]
  },
  {
   "cell_type": "code",
   "execution_count": 2,
   "id": "b277bee6",
   "metadata": {},
   "outputs": [],
   "source": [
    "class Book:   \n",
    "    #  constructor\n",
    "    def __init__(self,title,author, isbn,publication_year,available_copies):\n",
    "        self.title1=title\n",
    "        self.author1=author\n",
    "        self.isbn1=isbn\n",
    "        self.publication_year1=publication_year\n",
    "        self.available_copies1=available_copies\n",
    "        \n",
    "        # functions\n",
    "    def check_out(self):\n",
    "        if (self.available_copies1 !=0):\n",
    "            self.available_copies1=self.available_copies1-1\n",
    "            print(f\" the available_copies after check out is {self.available_copies1}\")\n",
    "                   \n",
    "    def return_book(self):\n",
    "        self.available_copies1=self.available_copies1+1\n",
    "        print(f\" the available_copies after returning of book  is {self.available_copies1}\")\n",
    "                \n",
    "    def display_book_info(self):\n",
    "        print(f\" The {self.title1} whose author is {self.author1} having isbn no {self.isbn1} published in year {self.publication_year1} has available copies {self.available_copies1} in library\")\n",
    "            "
   ]
  },
  {
   "cell_type": "code",
   "execution_count": 3,
   "id": "07486b76",
   "metadata": {},
   "outputs": [],
   "source": [
    "# creating objects\n",
    "\n",
    "a=Book(\"The Time Machine\", \"H.G. WELLS\", 9780141439976, 1895, 6)"
   ]
  },
  {
   "cell_type": "code",
   "execution_count": 4,
   "id": "10550878",
   "metadata": {},
   "outputs": [
    {
     "data": {
      "text/plain": [
       "'The Time Machine'"
      ]
     },
     "execution_count": 4,
     "metadata": {},
     "output_type": "execute_result"
    }
   ],
   "source": [
    "a.title1"
   ]
  },
  {
   "cell_type": "code",
   "execution_count": 5,
   "id": "83708741",
   "metadata": {},
   "outputs": [
    {
     "data": {
      "text/plain": [
       "'H.G. WELLS'"
      ]
     },
     "execution_count": 5,
     "metadata": {},
     "output_type": "execute_result"
    }
   ],
   "source": [
    "a.author1"
   ]
  },
  {
   "cell_type": "code",
   "execution_count": 6,
   "id": "363c82e6",
   "metadata": {},
   "outputs": [
    {
     "data": {
      "text/plain": [
       "9780141439976"
      ]
     },
     "execution_count": 6,
     "metadata": {},
     "output_type": "execute_result"
    }
   ],
   "source": [
    "a.isbn1"
   ]
  },
  {
   "cell_type": "code",
   "execution_count": 7,
   "id": "39206015",
   "metadata": {},
   "outputs": [
    {
     "data": {
      "text/plain": [
       "1895"
      ]
     },
     "execution_count": 7,
     "metadata": {},
     "output_type": "execute_result"
    }
   ],
   "source": [
    "a.publication_year1"
   ]
  },
  {
   "cell_type": "code",
   "execution_count": 8,
   "id": "1379ad8b",
   "metadata": {},
   "outputs": [
    {
     "data": {
      "text/plain": [
       "6"
      ]
     },
     "execution_count": 8,
     "metadata": {},
     "output_type": "execute_result"
    }
   ],
   "source": [
    "a.available_copies1"
   ]
  },
  {
   "cell_type": "code",
   "execution_count": 9,
   "id": "f4079b58",
   "metadata": {},
   "outputs": [
    {
     "name": "stdout",
     "output_type": "stream",
     "text": [
      " the available_copies after check out is 5\n"
     ]
    }
   ],
   "source": [
    "a.check_out()"
   ]
  },
  {
   "cell_type": "code",
   "execution_count": 10,
   "id": "043a710b",
   "metadata": {},
   "outputs": [
    {
     "name": "stdout",
     "output_type": "stream",
     "text": [
      " the available_copies after returning of book  is 6\n"
     ]
    }
   ],
   "source": [
    "a.return_book()"
   ]
  },
  {
   "cell_type": "code",
   "execution_count": 11,
   "id": "cbc697f7",
   "metadata": {},
   "outputs": [
    {
     "name": "stdout",
     "output_type": "stream",
     "text": [
      " The The Time Machine whose author is H.G. WELLS having isbn no 9780141439976 published in year 1895 has available copies 6 in library\n"
     ]
    }
   ],
   "source": [
    "a.display_book_info()"
   ]
  },
  {
   "cell_type": "markdown",
   "id": "937845c0",
   "metadata": {},
   "source": [
    "8. For a ticket booking system, you have to design the \"Ticket\" class with OOP\n",
    "principles in mind. The “Ticket” class should have the following attributes:\n",
    "a. ticket_id: Represents the unique identifier for the ticket.\n",
    "b. event_name: Represents the name of the event.\n",
    "c. event_date: Represents the date of the event.\n",
    "d. venue: Represents the venue of the event.\n",
    "e. seat_number: Represents the seat number associated with the ticket.\n",
    "f. price: Represents the price of the ticket.\n",
    "g. is_reserved: Represents the reservation status of the ticket.\n",
    "The class also includes the following methods:\n",
    "a. reserve_ticket(self): Marks the ticket as reserved if it is not already reserved.\n",
    "b. cancel_reservation(self): Cancels the reservation of the ticket if it is already\n",
    "reserved.\n",
    "c. display_ticket_info(self): Displays the information about the ticket, including its\n",
    "attributes and reservation status."
   ]
  },
  {
   "cell_type": "code",
   "execution_count": 12,
   "id": "68ff315a",
   "metadata": {},
   "outputs": [],
   "source": [
    "class Ticket:\n",
    "    # constructor\n",
    "    def __init__(self, ticket_id,event_name,event_date,venue,seat_number,price, is_reserved):\n",
    "        self.ticket_id1=ticket_id\n",
    "        self.event_name1=event_name\n",
    "        self.event_date1=event_date\n",
    "        self.venue1=venue\n",
    "        self.seat_number1=seat_number\n",
    "        self.price1=price\n",
    "        self.is_reserved1=is_reserved\n",
    "        \n",
    "        # functions\n",
    "        \n",
    "    def reserve_ticket(self):\n",
    "        if self.is_reserved1== \"NO\":\n",
    "            print(f\" your ticket will mark reserved\")\n",
    "        else:\n",
    "            print(\"sorry you do not have reservation\")\n",
    "            \n",
    "    def cancel_reservation(self):\n",
    "        if self.is_reserved1==\"YES\":\n",
    "            print(f\" Reservation of your ticket is being cancelled\")\n",
    "        else:\n",
    "            print(\"enjoy the movie\")\n",
    "            \n",
    "    def display_ticket_info(self):\n",
    "        print(f\"\"\" The ticket whose ticket_id is {self.ticket_id1} having event name {self.event_name1} occuring on {self.event_date1}\n",
    "        at {self.venue1} having seat no {self.seat_number1} of price {self.price1} with status of reservation of your seat being {self.is_reserved1}\"\"\")\n",
    "        \n",
    "        \n",
    "        \n",
    "        \n",
    "        \n",
    "        \n",
    "        "
   ]
  },
  {
   "cell_type": "code",
   "execution_count": 13,
   "id": "ccc00599",
   "metadata": {},
   "outputs": [],
   "source": [
    "b=Ticket(2455,\"Wonderland\", \"26th july\", \"delhi\",56, 180,\"NO\")"
   ]
  },
  {
   "cell_type": "code",
   "execution_count": 14,
   "id": "d719cd60",
   "metadata": {},
   "outputs": [
    {
     "data": {
      "text/plain": [
       "2455"
      ]
     },
     "execution_count": 14,
     "metadata": {},
     "output_type": "execute_result"
    }
   ],
   "source": [
    "b.ticket_id1"
   ]
  },
  {
   "cell_type": "code",
   "execution_count": 15,
   "id": "6ce64957",
   "metadata": {},
   "outputs": [
    {
     "data": {
      "text/plain": [
       "'Wonderland'"
      ]
     },
     "execution_count": 15,
     "metadata": {},
     "output_type": "execute_result"
    }
   ],
   "source": [
    "b.event_name1"
   ]
  },
  {
   "cell_type": "code",
   "execution_count": 16,
   "id": "8fe3603a",
   "metadata": {},
   "outputs": [
    {
     "data": {
      "text/plain": [
       "'26th july'"
      ]
     },
     "execution_count": 16,
     "metadata": {},
     "output_type": "execute_result"
    }
   ],
   "source": [
    "b.event_date1"
   ]
  },
  {
   "cell_type": "code",
   "execution_count": 17,
   "id": "2665374d",
   "metadata": {},
   "outputs": [
    {
     "data": {
      "text/plain": [
       "'delhi'"
      ]
     },
     "execution_count": 17,
     "metadata": {},
     "output_type": "execute_result"
    }
   ],
   "source": [
    "b.venue1"
   ]
  },
  {
   "cell_type": "code",
   "execution_count": 18,
   "id": "64705270",
   "metadata": {},
   "outputs": [
    {
     "data": {
      "text/plain": [
       "56"
      ]
     },
     "execution_count": 18,
     "metadata": {},
     "output_type": "execute_result"
    }
   ],
   "source": [
    "b.seat_number1"
   ]
  },
  {
   "cell_type": "code",
   "execution_count": 19,
   "id": "7ddeb7e3",
   "metadata": {},
   "outputs": [
    {
     "data": {
      "text/plain": [
       "180"
      ]
     },
     "execution_count": 19,
     "metadata": {},
     "output_type": "execute_result"
    }
   ],
   "source": [
    "b.price1"
   ]
  },
  {
   "cell_type": "code",
   "execution_count": 20,
   "id": "34812905",
   "metadata": {},
   "outputs": [
    {
     "data": {
      "text/plain": [
       "'NO'"
      ]
     },
     "execution_count": 20,
     "metadata": {},
     "output_type": "execute_result"
    }
   ],
   "source": [
    "b.is_reserved1"
   ]
  },
  {
   "cell_type": "code",
   "execution_count": 21,
   "id": "1a9fbd0c",
   "metadata": {},
   "outputs": [
    {
     "name": "stdout",
     "output_type": "stream",
     "text": [
      " your ticket will mark reserved\n"
     ]
    }
   ],
   "source": [
    "b.reserve_ticket()"
   ]
  },
  {
   "cell_type": "code",
   "execution_count": 22,
   "id": "e0e56c6e",
   "metadata": {},
   "outputs": [
    {
     "name": "stdout",
     "output_type": "stream",
     "text": [
      "enjoy the movie\n"
     ]
    }
   ],
   "source": [
    "b.cancel_reservation()"
   ]
  },
  {
   "cell_type": "code",
   "execution_count": 23,
   "id": "b00b1e1f",
   "metadata": {},
   "outputs": [
    {
     "name": "stdout",
     "output_type": "stream",
     "text": [
      " The ticket whose ticket_id is 2455 having event name Wonderland occuring on 26th july\n",
      "        at delhi having seat no 56 of price 180 with status of reservation of your seat being NO\n"
     ]
    }
   ],
   "source": [
    "b.display_ticket_info()"
   ]
  },
  {
   "cell_type": "markdown",
   "id": "7b5f9e54",
   "metadata": {},
   "source": [
    "9. You are creating a shopping cart for an e-commerce website. Using OOP to model\n",
    "the \"ShoppingCart\" functionality the class should contain following attributes and\n",
    "methods:\n",
    "a. items: Represents the list of items in the shopping cart.\n",
    "The class also includes the following methods:\n",
    "\n",
    "a. add_item(self, item): Adds an item to the shopping cart by appending it to the\n",
    "list of items.\n",
    "b. remove_item(self, item): Removes an item from the shopping cart if it exists in\n",
    "the list.\n",
    "c. view_cart(self): Displays the items currently present in the shopping cart.\n",
    "d. clear_cart(self): Clears all items from the shopping cart by reassigning an\n",
    "empty list to the items attribute."
   ]
  },
  {
   "cell_type": "code",
   "execution_count": 59,
   "id": "91c455b5",
   "metadata": {},
   "outputs": [],
   "source": [
    "class ShoppingCart:\n",
    "    def __init__(self):\n",
    "        self.item=[]\n",
    "        \n",
    "    def add_item(self,item):\n",
    "        self.item.append(item)\n",
    "        \n",
    "    def remove_item(self,item):\n",
    "        if item in self.item:\n",
    "            self.item.remove(item)\n",
    "        else:\n",
    "            print(f\" {item} is not in the shopping list\")\n",
    "                \n",
    "            \n",
    "    def view_cart(self):\n",
    "        if self.item!=[]:\n",
    "            print(\"items in the shopping cart\")\n",
    "            for item in self.item:\n",
    "                print(item)       \n",
    "        else:\n",
    "            print(\"shopping cart is empty\")\n",
    "            \n",
    "    def clear_cart(self):\n",
    "        self.item=[]\n",
    "        print(f\"the shopping cart is now cleared\")\n",
    "        \n",
    "        \n",
    "        "
   ]
  },
  {
   "cell_type": "code",
   "execution_count": 60,
   "id": "601cb3e1",
   "metadata": {},
   "outputs": [],
   "source": [
    "a=ShoppingCart()"
   ]
  },
  {
   "cell_type": "code",
   "execution_count": 61,
   "id": "764a8242",
   "metadata": {},
   "outputs": [],
   "source": [
    "a.add_item(\"phone\")\n",
    "a.add_item(\"washing machine\")\n",
    "a.add_item(\"printer\")\n",
    "a.add_item(\"laptop\")\n",
    "a.add_item(\"smart watch\")"
   ]
  },
  {
   "cell_type": "code",
   "execution_count": 64,
   "id": "ea38e228",
   "metadata": {},
   "outputs": [
    {
     "name": "stdout",
     "output_type": "stream",
     "text": [
      "items in the shopping cart\n",
      "phone\n",
      "washing machine\n",
      "laptop\n",
      "smart watch\n"
     ]
    }
   ],
   "source": [
    "a.view_cart()"
   ]
  },
  {
   "cell_type": "code",
   "execution_count": 62,
   "id": "4120e9b3",
   "metadata": {},
   "outputs": [],
   "source": [
    "a.remove_item(\"printer\")"
   ]
  },
  {
   "cell_type": "code",
   "execution_count": 63,
   "id": "2ef11c69",
   "metadata": {},
   "outputs": [
    {
     "name": "stdout",
     "output_type": "stream",
     "text": [
      "items in the shopping cart\n",
      "phone\n",
      "washing machine\n",
      "laptop\n",
      "smart watch\n"
     ]
    }
   ],
   "source": [
    "a.view_cart()"
   ]
  },
  {
   "cell_type": "code",
   "execution_count": 65,
   "id": "c0c1b745",
   "metadata": {},
   "outputs": [
    {
     "name": "stdout",
     "output_type": "stream",
     "text": [
      "the shopping cart is now cleared\n"
     ]
    }
   ],
   "source": [
    "a.clear_cart()"
   ]
  },
  {
   "cell_type": "code",
   "execution_count": 66,
   "id": "d66eb0eb",
   "metadata": {},
   "outputs": [
    {
     "name": "stdout",
     "output_type": "stream",
     "text": [
      "shopping cart is empty\n"
     ]
    }
   ],
   "source": [
    "a.view_cart()"
   ]
  },
  {
   "cell_type": "markdown",
   "id": "9c5e0f05",
   "metadata": {},
   "source": [
    "10. Imagine a school management system. You have to design the \"Student\" class using\n",
    "OOP concepts.The “Student” class has the following attributes:\n",
    "a. name: Represents the name of the student.\n",
    "b. age: Represents the age of the student.\n",
    "c. grade: Represents the grade or class of the student.\n",
    "d. student_id: Represents the unique identifier for the student.\n",
    "e. attendance: Represents the attendance record of the student.\n",
    "The class should also include the following methods:\n",
    "a. update_attendance(self, date, status): Updates the attendance record of the\n",
    "student for a given date with the provided status (e.g., present or absent).\n",
    "b. get_attendance(self): Returns the attendance record of the student.\n",
    "c. get_average_attendance(self): Calculates and returns the average\n",
    "attendance percentage of the student based on their attendance record."
   ]
  },
  {
   "cell_type": "code",
   "execution_count": 211,
   "id": "dbd95eee",
   "metadata": {},
   "outputs": [],
   "source": [
    "class Student:\n",
    "    def __init__(self, name,age,grade,student_id):\n",
    "        self.name1=name\n",
    "        self.age1=age\n",
    "        self.grade1=grade\n",
    "        self.student_id1=student_id\n",
    "        self.attendance={}    # dictionary, so that we can store in form of keys and values(date: status)\n",
    "        \n",
    "    def update_attendance(self, date,status):\n",
    "        self.attendance[date]=status\n",
    "        \n",
    "    def get_attendance(self):\n",
    "        return self.attendance\n",
    "    \n",
    "    def get_average_attendance(self):\n",
    "        total_days=len(self.attendance)\n",
    "        No_of_present_days=0\n",
    "        for i in self.attendance.values():\n",
    "                if i=='present':\n",
    "                    No_of_present_days+=1\n",
    "                \n",
    "        attendance_percentage= (No_of_present_days/total_days)*100\n",
    "        return attendance_percentage\n",
    "        "
   ]
  },
  {
   "cell_type": "code",
   "execution_count": 212,
   "id": "4fc541ee",
   "metadata": {},
   "outputs": [],
   "source": [
    "b = Student(\"Tom\", 12, 8, \"B789\")"
   ]
  },
  {
   "cell_type": "code",
   "execution_count": 213,
   "id": "ad425dc9",
   "metadata": {},
   "outputs": [],
   "source": [
    "b.update_attendance(\"2023-07-10\", \"present\")\n",
    "b.update_attendance(\"2023-07-11\", \"absent\")\n",
    "b.update_attendance(\"2023-07-12\", \"present\")"
   ]
  },
  {
   "cell_type": "code",
   "execution_count": 214,
   "id": "5f4f6a50",
   "metadata": {},
   "outputs": [
    {
     "name": "stdout",
     "output_type": "stream",
     "text": [
      "{'2023-07-10': 'present', '2023-07-11': 'absent', '2023-07-12': 'present'}\n"
     ]
    }
   ],
   "source": [
    "attendance_record = b.get_attendance()\n",
    "print(attendance_record)"
   ]
  },
  {
   "cell_type": "code",
   "execution_count": 215,
   "id": "ec5a8178",
   "metadata": {},
   "outputs": [
    {
     "name": "stdout",
     "output_type": "stream",
     "text": [
      "66.66666666666666\n"
     ]
    }
   ],
   "source": [
    "average_attendance = b.get_average_attendance()\n",
    "print(average_attendance)"
   ]
  },
  {
   "cell_type": "code",
   "execution_count": null,
   "id": "0d082aa6",
   "metadata": {},
   "outputs": [],
   "source": []
  },
  {
   "cell_type": "code",
   "execution_count": null,
   "id": "5a65fe7d",
   "metadata": {},
   "outputs": [],
   "source": []
  },
  {
   "cell_type": "code",
   "execution_count": null,
   "id": "799c9d66",
   "metadata": {},
   "outputs": [],
   "source": []
  }
 ],
 "metadata": {
  "kernelspec": {
   "display_name": "Python 3 (ipykernel)",
   "language": "python",
   "name": "python3"
  },
  "language_info": {
   "codemirror_mode": {
    "name": "ipython",
    "version": 3
   },
   "file_extension": ".py",
   "mimetype": "text/x-python",
   "name": "python",
   "nbconvert_exporter": "python",
   "pygments_lexer": "ipython3",
   "version": "3.10.9"
  }
 },
 "nbformat": 4,
 "nbformat_minor": 5
}
